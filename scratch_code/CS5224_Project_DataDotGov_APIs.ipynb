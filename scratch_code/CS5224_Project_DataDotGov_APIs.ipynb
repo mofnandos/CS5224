{
  "nbformat": 4,
  "nbformat_minor": 0,
  "metadata": {
    "colab": {
      "provenance": [],
      "authorship_tag": "ABX9TyMXbtM8cvkiGDZqNmHXOACq",
      "include_colab_link": true
    },
    "kernelspec": {
      "name": "python3",
      "display_name": "Python 3"
    },
    "language_info": {
      "name": "python"
    }
  },
  "cells": [
    {
      "cell_type": "markdown",
      "metadata": {
        "id": "view-in-github",
        "colab_type": "text"
      },
      "source": [
        "<a href=\"https://colab.research.google.com/github/mofnandos/CS5224/blob/main/CS5224_Project_DataDotGov_APIs.ipynb\" target=\"_parent\"><img src=\"https://colab.research.google.com/assets/colab-badge.svg\" alt=\"Open In Colab\"/></a>"
      ]
    },
    {
      "cell_type": "markdown",
      "source": [
        "CS224 Goverment API"
      ],
      "metadata": {
        "id": "aBSKoSFAXxwP"
      }
    },
    {
      "cell_type": "code",
      "source": [
        "try:\n",
        "  ! pip install pgeocode\n",
        "  ! pip install haversine\n",
        "  ! pip install geopy\n",
        "  ! pip install pyproj\n",
        "except:\n",
        "  print(\"Something not installed\")"
      ],
      "metadata": {
        "colab": {
          "base_uri": "https://localhost:8080/"
        },
        "id": "SVGsBjHsbGe3",
        "outputId": "eb3ed741-6745-47b6-ee30-eaa9093d110e"
      },
      "execution_count": 1,
      "outputs": [
        {
          "output_type": "stream",
          "name": "stdout",
          "text": [
            "Looking in indexes: https://pypi.org/simple, https://us-python.pkg.dev/colab-wheels/public/simple/\n",
            "Requirement already satisfied: pgeocode in /usr/local/lib/python3.9/dist-packages (0.4.0)\n",
            "Requirement already satisfied: numpy in /usr/local/lib/python3.9/dist-packages (from pgeocode) (1.22.4)\n",
            "Requirement already satisfied: pandas in /usr/local/lib/python3.9/dist-packages (from pgeocode) (1.4.4)\n",
            "Requirement already satisfied: requests in /usr/local/lib/python3.9/dist-packages (from pgeocode) (2.27.1)\n",
            "Requirement already satisfied: pytz>=2020.1 in /usr/local/lib/python3.9/dist-packages (from pandas->pgeocode) (2022.7.1)\n",
            "Requirement already satisfied: python-dateutil>=2.8.1 in /usr/local/lib/python3.9/dist-packages (from pandas->pgeocode) (2.8.2)\n",
            "Requirement already satisfied: urllib3<1.27,>=1.21.1 in /usr/local/lib/python3.9/dist-packages (from requests->pgeocode) (1.26.15)\n",
            "Requirement already satisfied: charset-normalizer~=2.0.0 in /usr/local/lib/python3.9/dist-packages (from requests->pgeocode) (2.0.12)\n",
            "Requirement already satisfied: certifi>=2017.4.17 in /usr/local/lib/python3.9/dist-packages (from requests->pgeocode) (2022.12.7)\n",
            "Requirement already satisfied: idna<4,>=2.5 in /usr/local/lib/python3.9/dist-packages (from requests->pgeocode) (3.4)\n",
            "Requirement already satisfied: six>=1.5 in /usr/local/lib/python3.9/dist-packages (from python-dateutil>=2.8.1->pandas->pgeocode) (1.15.0)\n",
            "Looking in indexes: https://pypi.org/simple, https://us-python.pkg.dev/colab-wheels/public/simple/\n",
            "Requirement already satisfied: haversine in /usr/local/lib/python3.9/dist-packages (2.8.0)\n",
            "Looking in indexes: https://pypi.org/simple, https://us-python.pkg.dev/colab-wheels/public/simple/\n",
            "Requirement already satisfied: geopy in /usr/local/lib/python3.9/dist-packages (1.17.0)\n",
            "Requirement already satisfied: geographiclib<2,>=1.49 in /usr/local/lib/python3.9/dist-packages (from geopy) (1.52)\n",
            "Looking in indexes: https://pypi.org/simple, https://us-python.pkg.dev/colab-wheels/public/simple/\n",
            "Requirement already satisfied: pyproj in /usr/local/lib/python3.9/dist-packages (3.4.1)\n",
            "Requirement already satisfied: certifi in /usr/local/lib/python3.9/dist-packages (from pyproj) (2022.12.7)\n"
          ]
        }
      ]
    },
    {
      "cell_type": "code",
      "execution_count": 2,
      "metadata": {
        "id": "4-nhwKniRnxI"
      },
      "outputs": [],
      "source": [
        "import pgeocode\n",
        "import requests # HTTP requests (GET / POST)\n",
        "import datetime\n",
        "import pandas as pd\n",
        "import numpy as np\n",
        "import folium\n",
        "import json\n",
        "from pyproj import Transformer\n",
        "from geopy.geocoders import Nominatim\n",
        "from haversine import haversine, Unit\n",
        "from IPython.display import display, Image\n",
        "\n",
        "pd.set_option(\"display.max_colwidth\", None)"
      ]
    },
    {
      "cell_type": "markdown",
      "source": [
        "## Helper Functions"
      ],
      "metadata": {
        "id": "GPRBUGb-zbMK"
      }
    },
    {
      "cell_type": "code",
      "source": [
        "def address_to_coord(address):\n",
        "  # calling the Nominatim tool\n",
        "  loc = Nominatim(user_agent=\"GetLoc\")\n",
        "  \n",
        "  # entering the location name\n",
        "  getLoc = loc.geocode(address)\n",
        "  \n",
        "  # printing address\n",
        "  # print(getLoc.address)\n",
        "  # printing latitude and longitude\n",
        "  place_lat = getLoc.latitude\n",
        "  place_long = getLoc.longitude\n",
        "  place_coord = (place_lat, place_long)\n",
        "  # print(place_coord)\n",
        "\n",
        "  return place_coord"
      ],
      "metadata": {
        "id": "5v34kUJsq566"
      },
      "execution_count": 3,
      "outputs": []
    },
    {
      "cell_type": "code",
      "source": [
        "def postalcode_to_coord(postal_code):\n",
        "  nomi = pgeocode.Nominatim('sg')\n",
        "  place = nomi.query_postal_code(postal_code)\n",
        "\n",
        "  place_lat = place['latitude']\n",
        "  place_long = place['longitude']\n",
        "  place_coord = (place_lat, place_long)\n",
        "  # print(place_coord)\n",
        "  return place_coord"
      ],
      "metadata": {
        "id": "i-vWU3JYmPZr"
      },
      "execution_count": 4,
      "outputs": []
    },
    {
      "cell_type": "code",
      "source": [
        "### Test code ###\n",
        "\n",
        "address = \"Bedok South Avenue 1\" #user input value - destination location should be HDB area\n",
        "postal_code = \"469334\" #user input value - destination location must be HDB block (example is Bedok South Avenue 1)\n",
        "\n",
        "print(address_to_coord(address))\n",
        "print(postalcode_to_coord(postal_code))"
      ],
      "metadata": {
        "colab": {
          "base_uri": "https://localhost:8080/"
        },
        "id": "d9o8D5QarbNy",
        "outputId": "39ba5ae0-837d-43ea-8116-44138e2a832d"
      },
      "execution_count": 5,
      "outputs": [
        {
          "output_type": "stream",
          "name": "stdout",
          "text": [
            "(1.3148778, 103.9335649)\n",
            "(1.3168, 103.9324)\n"
          ]
        }
      ]
    },
    {
      "cell_type": "markdown",
      "source": [
        "# Carpark Availability API"
      ],
      "metadata": {
        "id": "nfLVTZd1SKNv"
      }
    },
    {
      "cell_type": "markdown",
      "source": [
        "## Initialization: Getting the list of HDB Carpark"
      ],
      "metadata": {
        "id": "hldRuhXMzobV"
      }
    },
    {
      "cell_type": "code",
      "source": [
        "def carpark_init(file_name):\n",
        "  df_hdb_cp = pd.read_csv(file_name)\n",
        "  # df_hdb_cp.head()\n",
        "\n",
        "  transformer = Transformer.from_crs(\"EPSG:3414\", \"EPSG:4326\")\n",
        "  df_hdb_cp['lat_log'] = None\n",
        "\n",
        "  for i in range(df_hdb_cp.shape[0]):\n",
        "    df_hdb_cp['lat_log'][i] = transformer.transform(df_hdb_cp['y_coord'][i], df_hdb_cp['x_coord'][i])\n",
        "  \n",
        "  return df_hdb_cp"
      ],
      "metadata": {
        "id": "uD8UZ_zrxR-r"
      },
      "execution_count": 6,
      "outputs": []
    },
    {
      "cell_type": "code",
      "source": [
        "### Test code ###\n",
        "file_name = 'hdb-carpark-information.csv'\n",
        "df_hdb_cp = carpark_init(file_name)"
      ],
      "metadata": {
        "colab": {
          "base_uri": "https://localhost:8080/"
        },
        "id": "mMR9gIYfs2CD",
        "outputId": "c8ae6d39-2b10-44e1-e912-0fca13159446"
      },
      "execution_count": 7,
      "outputs": [
        {
          "output_type": "stream",
          "name": "stderr",
          "text": [
            "<ipython-input-6-885a3ba631e3>:9: SettingWithCopyWarning: \n",
            "A value is trying to be set on a copy of a slice from a DataFrame\n",
            "\n",
            "See the caveats in the documentation: https://pandas.pydata.org/pandas-docs/stable/user_guide/indexing.html#returning-a-view-versus-a-copy\n",
            "  df_hdb_cp['lat_log'][i] = transformer.transform(df_hdb_cp['y_coord'][i], df_hdb_cp['x_coord'][i])\n"
          ]
        }
      ]
    },
    {
      "cell_type": "markdown",
      "source": [
        "## Finding the nearest carpark"
      ],
      "metadata": {
        "id": "zuv6QmYezwa-"
      }
    },
    {
      "cell_type": "code",
      "source": [
        "def nearest_carpark(place_coord, walking_dist_to_cp):\n",
        "  nearest_carpark_num_list = []\n",
        "  nearest_carpark_latlog_list = []\n",
        "  for i in range(df_hdb_cp.shape[0]):\n",
        "    if haversine(df_hdb_cp['lat_log'][i], place_coord, unit=Unit.METERS) < walking_dist_to_cp:\n",
        "      # print(df_hdb_cp['car_park_no'][i])\n",
        "      nearest_carpark_num_list.append(df_hdb_cp['car_park_no'][i])\n",
        "      nearest_carpark_latlog_list.append(df_hdb_cp['lat_log'][i])\n",
        "  return nearest_carpark_latlog_list, nearest_carpark_num_list"
      ],
      "metadata": {
        "id": "mwxpC_lQnYto"
      },
      "execution_count": 8,
      "outputs": []
    },
    {
      "cell_type": "code",
      "source": [
        "### Test Code ###\n",
        "walking_dist_to_cp = 1000 # distance in meters\n",
        "place_coord = address_to_coord(\"Bedok South Avenue 1\")\n",
        "nearest_carpark_latlog_list, nearest_carpark_num_list = nearest_carpark(place_coord, walking_dist_to_cp)\n",
        "print(nearest_carpark_num_list)\n",
        "print(nearest_carpark_latlog_list)"
      ],
      "metadata": {
        "colab": {
          "base_uri": "https://localhost:8080/"
        },
        "id": "mqH3eVgFttiB",
        "outputId": "e294544a-b96b-4090-b4cc-e383e7a37f3a"
      },
      "execution_count": 9,
      "outputs": [
        {
          "output_type": "stream",
          "name": "stdout",
          "text": [
            "['B6T', 'B68', 'B81', 'B87', 'B88', 'B92', 'B93']\n",
            "[(1.3237167011755613, 103.93256356632538), (1.3225048596874, 103.93692202997899), (1.323211123984771, 103.93494255225318), (1.3205406737790863, 103.93619734820132), (1.3222730385459693, 103.93829861018796), (1.3216973941844923, 103.93393509513557), (1.3204217908689766, 103.93417561555682)]\n"
          ]
        }
      ]
    },
    {
      "cell_type": "markdown",
      "source": [
        "## Finding the nearest HDB carpark with availability data"
      ],
      "metadata": {
        "id": "cYirIazdz2h8"
      }
    },
    {
      "cell_type": "code",
      "source": [
        "def hdb_carpark_availability(nearest_carpark_list):\n",
        "  # Obtaining carpark availability\n",
        "  today = datetime.datetime.today()\n",
        "  params = {\"date_time\": today.strftime(\"%Y-%m-%dT%H:%M:%S\")} # YYYY-MM-DD \n",
        "  car = requests.get('https://api.data.gov.sg/v1/transport/carpark-availability', params=params).json()\n",
        "  # print(len(car['items'][0]['carpark_data'])) # Amount of instances retrieved per API call\n",
        "\n",
        "  df = pd.DataFrame.from_dict(car['items'][0]['carpark_data'])\n",
        "  # df.head()\n",
        "\n",
        "  # set of carpark which we have availability details\n",
        "  carpark_number_set = set()\n",
        "  for i in range(df.shape[0]):\n",
        "    carpark_number_set.add(df['carpark_number'][i])\n",
        "  # print(carpark_number_set)\n",
        "\n",
        "  carpark = {}\n",
        "\n",
        "  if len(nearest_carpark_list) > 0:\n",
        "    for i in range(len(nearest_carpark_list)):\n",
        "      carpark_number = nearest_carpark_list.pop()\n",
        "      if carpark_number in carpark_number_set:\n",
        "        lots_available = df[df['carpark_number'] == carpark_number].iloc[0,0][0]['lots_available']\n",
        "        carpark[carpark_number] = lots_available\n",
        "        # print(\"Car Park Number {}: {} lots avaialble\".format(carpark_number, lots_available))\n",
        "  else:\n",
        "    carpark['availability'] = 'No HDB carparks nearby'\n",
        "  \n",
        "  return carpark"
      ],
      "metadata": {
        "id": "xYWnw7ftRyqV"
      },
      "execution_count": 10,
      "outputs": []
    },
    {
      "cell_type": "code",
      "source": [
        "### Test Code###\n",
        "carpark_availability = hdb_carpark_availability(nearest_carpark_num_list)\n",
        "for carpark_number, lots_available in carpark_availability.items():\n",
        "  print(\"Car Park Number {}: {} lots avaialble\".format(carpark_number, lots_available))"
      ],
      "metadata": {
        "colab": {
          "base_uri": "https://localhost:8080/"
        },
        "id": "bmEUhmB5TkBW",
        "outputId": "4459d360-8ac7-4232-d8f4-4fcdf7f16930"
      },
      "execution_count": 11,
      "outputs": [
        {
          "output_type": "stream",
          "name": "stdout",
          "text": [
            "Car Park Number B92: 292 lots avaialble\n",
            "Car Park Number B88: 169 lots avaialble\n",
            "Car Park Number B81: 406 lots avaialble\n"
          ]
        }
      ]
    },
    {
      "cell_type": "markdown",
      "source": [
        "# Taxi Availability API\n",
        "\n"
      ],
      "metadata": {
        "id": "_sehl-MYSdrr"
      }
    },
    {
      "cell_type": "code",
      "source": [
        "# postal_code = \"238801\" #user input value - starting location (example is Ion Orchard)\n",
        "# nomi = pgeocode.Nominatim('sg')\n",
        "# place = nomi.query_postal_code(postal_code)\n",
        "\n",
        "# place_lat = place['latitude']\n",
        "# place_long = place['longitude']\n",
        "# place_coord = (place_lat, place_long)\n",
        "# print(place_coord)"
      ],
      "metadata": {
        "id": "NP3lFrTRa_Ac"
      },
      "execution_count": 12,
      "outputs": []
    },
    {
      "cell_type": "code",
      "source": [
        "def taxi_availability(place_coord, dist):\n",
        "  # Taxi availability data\n",
        "  today = datetime.datetime.today() \n",
        "  params = {\"date\": today.strftime(\"%Y-%m-%d\")} # YYYY-MM-DD \n",
        "  taxi = requests.get('https://api.data.gov.sg/v1/transport/taxi-availability', params=params).json()\n",
        "  num_taxi_all_singapore = taxi['features'][0]['properties']['taxi_count']\n",
        "\n",
        "  taxi_list = taxi['features'][0]['geometry']['coordinates']\n",
        "  taxi_near = []\n",
        "\n",
        "  for taxi in taxi_list:\n",
        "    taxi_tup = (taxi[1], taxi[0])\n",
        "    if haversine(taxi_tup, place_coord, unit=Unit.METERS) < dist:\n",
        "      # print(taxi_tup)\n",
        "      taxi_near.append(taxi)\n",
        "\n",
        "  num_taxi_near_me = len(taxi_near)\n",
        "\n",
        "  return num_taxi_all_singapore, num_taxi_near_me, taxi_near # (long,lat)"
      ],
      "metadata": {
        "id": "79rB6Xf5SVo0"
      },
      "execution_count": 13,
      "outputs": []
    },
    {
      "cell_type": "code",
      "source": [
        "### Test Code ###\n",
        "dist = 500\n",
        "place_coord = postalcode_to_coord(\"238801\")\n",
        "num_taxi_all_singapore, num_taxi_near_me, taxi_near = taxi_availability(place_coord, dist)\n",
        "print(\"There are currently {} taxi available in Singapore\".format(num_taxi_all_singapore))\n",
        "print(\"There are current {} taxi near me (within {}m)\".format(num_taxi_near_me, dist))\n",
        "print(taxi_near)"
      ],
      "metadata": {
        "id": "HetEf59rdXzl",
        "colab": {
          "base_uri": "https://localhost:8080/"
        },
        "outputId": "72cb313e-05fd-4c1a-8316-b8c03c4de984"
      },
      "execution_count": 14,
      "outputs": [
        {
          "output_type": "stream",
          "name": "stdout",
          "text": [
            "There are currently 936 taxi available in Singapore\n",
            "There are current 5 taxi near me (within 500m)\n",
            "[[103.82958, 1.30037], [103.833281833333, 1.3056935], [103.833667, 1.304269], [103.833727033333, 1.30411991666667], [103.834336883333, 1.3039108]]\n"
          ]
        }
      ]
    },
    {
      "cell_type": "code",
      "source": [
        "def plot_taxi_near_me(taxi_near):\n",
        "# Plotting taxi near my location\n",
        "  sg_map = folium.Map([1.3521, 103.8198], zoom_start = 12, tiles=\"Stamen Terrain\")\n",
        "  for coord in taxi_near:\n",
        "      folium.Marker([coord[1], coord[0]]).add_to(sg_map)\n",
        "  sg_map.save('taxi_availability.html')"
      ],
      "metadata": {
        "id": "9pgYwWq3Sg5n"
      },
      "execution_count": 15,
      "outputs": []
    },
    {
      "cell_type": "code",
      "source": [
        "### Test code ###\n",
        "plot_taxi_near_me(taxi_near)"
      ],
      "metadata": {
        "id": "Nzm0EeCL2tgj"
      },
      "execution_count": 16,
      "outputs": []
    },
    {
      "cell_type": "markdown",
      "source": [
        "# Weather Forecast\n"
      ],
      "metadata": {
        "id": "FBXMTVf0SqHo"
      }
    },
    {
      "cell_type": "code",
      "source": [
        "start_place_coord = postalcode_to_coord(\"638365\")\n",
        "dest_place_coord = postalcode_to_coord(\"469334\")"
      ],
      "metadata": {
        "id": "0I_x2INk74Cy"
      },
      "execution_count": 17,
      "outputs": []
    },
    {
      "cell_type": "code",
      "source": [
        "def get_weather_forecast():\n",
        "  # 2-hour weather forecast data\n",
        "  today = datetime.datetime.today() \n",
        "  params = {\"date\": today.strftime(\"%Y-%m-%d\")} # YYYY-MM-DD \n",
        "  wx_forecast = requests.get('https://api.data.gov.sg/v1/environment/2-hour-weather-forecast', params=params).json()\n",
        "\n",
        "  df = pd.DataFrame(wx_forecast['area_metadata']).merge(pd.DataFrame(wx_forecast['items'][-1]['forecasts']).reset_index(), how='inner', left_on='name', right_on='area')\n",
        "  df = df[['area','forecast','label_location']]\n",
        "  df['lat_log'] = None\n",
        "\n",
        "  for i in range(df.shape[0]):\n",
        "    df['lat_log'][i] = (df['label_location'][i]['latitude'], df['label_location'][i]['longitude'])\n",
        "\n",
        "  df.drop(['label_location'], axis = 1, inplace = True)\n",
        "  # df.head()\n",
        "  return df\n"
      ],
      "metadata": {
        "id": "-hSCkl8ySvdd"
      },
      "execution_count": 18,
      "outputs": []
    },
    {
      "cell_type": "code",
      "source": [
        "### Test code ###\n",
        "df_weather_forecast = get_weather_forecast()"
      ],
      "metadata": {
        "id": "b_ZGSCFm5oh4"
      },
      "execution_count": 19,
      "outputs": []
    },
    {
      "cell_type": "code",
      "source": [
        "def trip_weather_forecast(df_weather_forecast, start_place_coord, dest_place_coord):\n",
        "  nearest_to_start = None\n",
        "  nearest_to_dest = None\n",
        "\n",
        "  dist_to_start = 1e10\n",
        "  dist_to_dest = 1e10\n",
        "\n",
        "  for i in range(df_weather_forecast.shape[0]):\n",
        "    i_to_start = haversine(df_weather_forecast['lat_log'][i], start_place_coord, unit=Unit.METERS)\n",
        "    if i_to_start < dist_to_start:\n",
        "      dist_to_start = i_to_start\n",
        "      nearest_to_start = i\n",
        "    i_to_dest = haversine(df_weather_forecast['lat_log'][i], dest_place_coord, unit=Unit.METERS) \n",
        "    if i_to_dest < dist_to_dest:\n",
        "      dist_to_dest = i_to_dest\n",
        "      nearest_to_dest = i\n",
        "\n",
        "  return (df_weather_forecast['area'][nearest_to_start], df_weather_forecast['forecast'][nearest_to_start]), \\\n",
        "         (df_weather_forecast['area'][nearest_to_dest], df_weather_forecast['forecast'][nearest_to_dest])"
      ],
      "metadata": {
        "id": "nNGFvdED9kvD"
      },
      "execution_count": 20,
      "outputs": []
    },
    {
      "cell_type": "code",
      "source": [
        "### Test code ###\n",
        "start_weather_forecast, dest_weather_forecast = trip_weather_forecast(df_weather_forecast, start_place_coord, dest_place_coord)\n",
        "print(start_weather_forecast)\n",
        "print(dest_weather_forecast)"
      ],
      "metadata": {
        "colab": {
          "base_uri": "https://localhost:8080/"
        },
        "id": "zSpBv_EG__w4",
        "outputId": "d225bfeb-1bea-4c98-8f75-2fc793089ad0"
      },
      "execution_count": 21,
      "outputs": [
        {
          "output_type": "stream",
          "name": "stdout",
          "text": [
            "('Jalan Bahar', 'Cloudy')\n",
            "('Bedok', 'Cloudy')\n"
          ]
        }
      ]
    }
  ]
}
